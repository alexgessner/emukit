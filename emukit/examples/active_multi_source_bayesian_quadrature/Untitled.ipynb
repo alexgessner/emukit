{
 "cells": [
  {
   "cell_type": "markdown",
   "metadata": {},
   "source": [
    "# Active Multi-Information Source Bayesian Quadrature\n",
    "\n",
    "This notebook exemplifies the setup in [Gessner, Mahsereci, and Gonzalez, 2019](https://arxiv.org/abs/1903.11331). \n",
    "\n",
    "The goal is to find the integral of an expensive function that comes with cheaper approximations that are correlated with the function of interest."
   ]
  },
  {
   "cell_type": "code",
   "execution_count": 1,
   "metadata": {},
   "outputs": [],
   "source": [
    "import numpy as np\n",
    "import GPy\n",
    "\n",
    "from emukit.examples.active_multi_source_bayesian_quadrature.example_functions import *"
   ]
  },
  {
   "cell_type": "markdown",
   "metadata": {},
   "source": [
    "### Define test functions"
   ]
  },
  {
   "cell_type": "code",
   "execution_count": 5,
   "metadata": {},
   "outputs": [],
   "source": [
    "def f1(x):\n",
    "    return forrester_high(x)\n",
    "\n",
    "def f2(x):\n",
    "    return forrester_low(x)"
   ]
  },
  {
   "cell_type": "markdown",
   "metadata": {},
   "source": [
    "### Initial data"
   ]
  },
  {
   "cell_type": "code",
   "execution_count": 6,
   "metadata": {},
   "outputs": [],
   "source": [
    "X_init = np.zeros(shape=(8, 2))\n",
    "X_init[:3,0] = np.asarray([0.78, 0.55, 0.2])\n",
    "X_init[3:,0] = np.asarray([0.98, 0.62, 0.59, 0.45, 0.35])\n",
    "X_init[3:,1] = 1.   # levels\n",
    "Y_init = np.zeros(shape=(8, 1)); Y_init[:3,:] = f1(X_init[:3,:1]); Y_init[3:, :] = f2(X_init[3:,:1])\n",
    "\n",
    "N_init = Y_init.size"
   ]
  },
  {
   "cell_type": "code",
   "execution_count": 7,
   "metadata": {},
   "outputs": [
    {
     "data": {
      "text/plain": [
       "(array([[0.78, 0.  ],\n",
       "        [0.55, 0.  ],\n",
       "        [0.2 , 0.  ],\n",
       "        [0.98, 1.  ],\n",
       "        [0.62, 1.  ],\n",
       "        [0.59, 1.  ],\n",
       "        [0.45, 1.  ],\n",
       "        [0.35, 1.  ]]), array([[-5.72816011],\n",
       "        [ 0.87119732],\n",
       "        [-0.63972711],\n",
       "        [17.29398228],\n",
       "        [ 5.7651177 ],\n",
       "        [ 5.9729904 ],\n",
       "        [ 4.74143518],\n",
       "        [ 3.50099335]]))"
      ]
     },
     "execution_count": 7,
     "metadata": {},
     "output_type": "execute_result"
    }
   ],
   "source": [
    "X_init, Y_init"
   ]
  },
  {
   "cell_type": "code",
   "execution_count": null,
   "metadata": {},
   "outputs": [],
   "source": []
  }
 ],
 "metadata": {
  "kernelspec": {
   "display_name": "Python 3",
   "language": "python",
   "name": "python3"
  },
  "language_info": {
   "codemirror_mode": {
    "name": "ipython",
    "version": 3
   },
   "file_extension": ".py",
   "mimetype": "text/x-python",
   "name": "python",
   "nbconvert_exporter": "python",
   "pygments_lexer": "ipython3",
   "version": "3.7.4"
  }
 },
 "nbformat": 4,
 "nbformat_minor": 4
}
