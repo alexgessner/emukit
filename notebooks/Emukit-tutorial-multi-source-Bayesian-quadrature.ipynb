{
 "cells": [
  {
   "cell_type": "markdown",
   "metadata": {},
   "source": [
    "# Active Multi-Information Source Bayesian Quadrature\n",
    "\n",
    "## Overview\n",
    "\n",
    "This notebook exemplifies the setup in [Gessner, Mahsereci, and Gonzalez, 2019](https://arxiv.org/abs/1903.11331).\n",
    "The goal is to find the integral of an expensive function that comes with cheaper approximations that are correlated with the function of interest.\n",
    "\n",
    "For basics on Bayesian quadrature (BQ), refer to the [BQ introductory notebook](./Emukit-tutorial-Bayesian-quadrature-introduction.ipynb). "
   ]
  },
  {
   "cell_type": "code",
   "execution_count": 1,
   "metadata": {},
   "outputs": [],
   "source": [
    "import numpy as np\n",
    "import GPy\n",
    "\n",
    "import emukit.examples.active_multi_source_bayesian_quadrature as msbq\n",
    "\n",
    "from emukit.core.loop.user_function import MultiSourceFunctionWrapper"
   ]
  },
  {
   "cell_type": "markdown",
   "metadata": {},
   "source": [
    "### Define test functions"
   ]
  },
  {
   "cell_type": "code",
   "execution_count": 2,
   "metadata": {},
   "outputs": [],
   "source": [
    "def f1(x):\n",
    "    return msbq.example_functions.forrester_high(x)\n",
    "\n",
    "def f2(x):\n",
    "    return msbq.example_functions.forrester_low(x)"
   ]
  },
  {
   "cell_type": "code",
   "execution_count": 3,
   "metadata": {},
   "outputs": [],
   "source": [
    "msfw = MultiSourceFunctionWrapper([f1, f2])"
   ]
  },
  {
   "cell_type": "markdown",
   "metadata": {},
   "source": [
    "### Initial data"
   ]
  },
  {
   "cell_type": "code",
   "execution_count": 4,
   "metadata": {},
   "outputs": [],
   "source": [
    "X_init = np.zeros(shape=(8, 2))\n",
    "X_init[:3,0] = np.asarray([0.78, 0.55, 0.2])\n",
    "X_init[3:,0] = np.asarray([0.98, 0.62, 0.59, 0.45, 0.35])\n",
    "X_init[3:,1] = 1.   # levels\n",
    "Y_init = np.zeros(shape=(8, 1)); Y_init[:3,:] = f1(X_init[:3,:1]); Y_init[3:, :] = f2(X_init[3:,:1])\n",
    "\n",
    "N_init = Y_init.size"
   ]
  },
  {
   "cell_type": "code",
   "execution_count": 5,
   "metadata": {},
   "outputs": [
    {
     "data": {
      "text/plain": [
       "([UserFunctionResult(X: [0.78 0.  ], Y: [-5.72816011], extra_outputs: {}),\n",
       "  UserFunctionResult(X: [0.55 0.  ], Y: [0.87119732], extra_outputs: {}),\n",
       "  UserFunctionResult(X: [0.2 0. ], Y: [-0.63972711], extra_outputs: {}),\n",
       "  UserFunctionResult(X: [0.98 1.  ], Y: [17.29398228], extra_outputs: {}),\n",
       "  UserFunctionResult(X: [0.62 1.  ], Y: [5.7651177], extra_outputs: {}),\n",
       "  UserFunctionResult(X: [0.59 1.  ], Y: [5.9729904], extra_outputs: {}),\n",
       "  UserFunctionResult(X: [0.45 1.  ], Y: [4.74143518], extra_outputs: {}),\n",
       "  UserFunctionResult(X: [0.35 1.  ], Y: [3.50099335], extra_outputs: {})],\n",
       " array([[-5.72816011],\n",
       "        [ 0.87119732],\n",
       "        [-0.63972711],\n",
       "        [17.29398228],\n",
       "        [ 5.7651177 ],\n",
       "        [ 5.9729904 ],\n",
       "        [ 4.74143518],\n",
       "        [ 3.50099335]]))"
      ]
     },
     "execution_count": 5,
     "metadata": {},
     "output_type": "execute_result"
    }
   ],
   "source": [
    "msfw.evaluate(X_init), Y_init"
   ]
  },
  {
   "cell_type": "markdown",
   "metadata": {},
   "source": [
    "### Define integral bounds\n",
    "The kernel needs to know the integral bounds, because this is where the integral is computed."
   ]
  },
  {
   "cell_type": "code",
   "execution_count": 6,
   "metadata": {},
   "outputs": [],
   "source": [
    "integral_bounds = msbq.integral_bounds.IntegralBounds(np.zeros(shape=(1,1)), np.ones(shape=(1,1)), 1)"
   ]
  },
  {
   "cell_type": "markdown",
   "metadata": {},
   "source": [
    "### Kernel"
   ]
  },
  {
   "cell_type": "code",
   "execution_count": 7,
   "metadata": {},
   "outputs": [
    {
     "data": {
      "text/html": [
       "<style type=\"text/css\">\n",
       ".tg  {font-family:\"Courier New\", Courier, monospace !important;padding:2px 3px;word-break:normal;border-collapse:collapse;border-spacing:0;border-color:#DCDCDC;margin:0px auto;width:100%;}\n",
       ".tg td{font-family:\"Courier New\", Courier, monospace !important;font-weight:bold;color:#444;background-color:#F7FDFA;border-style:solid;border-width:1px;overflow:hidden;word-break:normal;border-color:#DCDCDC;}\n",
       ".tg th{font-family:\"Courier New\", Courier, monospace !important;font-weight:normal;color:#fff;background-color:#26ADE4;border-style:solid;border-width:1px;overflow:hidden;word-break:normal;border-color:#DCDCDC;}\n",
       ".tg .tg-left{font-family:\"Courier New\", Courier, monospace !important;font-weight:normal;text-align:left;}\n",
       ".tg .tg-center{font-family:\"Courier New\", Courier, monospace !important;font-weight:normal;text-align:center;}\n",
       ".tg .tg-right{font-family:\"Courier New\", Courier, monospace !important;font-weight:normal;text-align:right;}\n",
       "</style>\n",
       "<table class=\"tg\"><tr><th><b>  integrable_product_kernel.   </b></th><th><b> value</b></th><th><b>constraints</b></th><th><b>priors</b></th></tr>\n",
       "<tr><td class=tg-left>  rbf_with_integral.variance   </td><td class=tg-right>   1.0</td><td class=tg-center>    +ve    </td><td class=tg-center>      </td></tr>\n",
       "<tr><td class=tg-left>  rbf_with_integral.lengthscale</td><td class=tg-right>   1.0</td><td class=tg-center>    +ve    </td><td class=tg-center>      </td></tr>\n",
       "<tr><td class=tg-left>  coregion.W                   </td><td class=tg-right>(2, 1)</td><td class=tg-center>           </td><td class=tg-center>      </td></tr>\n",
       "<tr><td class=tg-left>  coregion.kappa               </td><td class=tg-right>  (2,)</td><td class=tg-center>    +ve    </td><td class=tg-center>      </td></tr>\n",
       "</table>"
      ],
      "text/plain": [
       "<emukit.examples.active_multi_source_bayesian_quadrature.kernels.integrable_product_kernel.IntegrableTensorProductKernel at 0x7ffad1585290>"
      ]
     },
     "metadata": {},
     "output_type": "display_data"
    }
   ],
   "source": [
    "B = GPy.kern.Coregionalize(input_dim=1, output_dim=2, rank=1)\n",
    "kern = msbq.kernels.IntegrableRBF(input_dim=1, integral_bounds=integral_bounds) \n",
    "\n",
    "multi_output_kern = msbq.kernels.IntegrableTensorProductKernel(kernels=[kern, B])\n",
    "\n",
    "display(multi_output_kern)"
   ]
  },
  {
   "cell_type": "code",
   "execution_count": 8,
   "metadata": {},
   "outputs": [],
   "source": [
    "m = msbq.multi_source_bq.MultiSourceBayesianQuadrature(X_init, Y_init, multi_output_kern)"
   ]
  },
  {
   "cell_type": "code",
   "execution_count": null,
   "metadata": {},
   "outputs": [],
   "source": []
  }
 ],
 "metadata": {
  "kernelspec": {
   "display_name": "Python 3",
   "language": "python",
   "name": "python3"
  },
  "language_info": {
   "codemirror_mode": {
    "name": "ipython",
    "version": 3
   },
   "file_extension": ".py",
   "mimetype": "text/x-python",
   "name": "python",
   "nbconvert_exporter": "python",
   "pygments_lexer": "ipython3",
   "version": "3.7.4"
  }
 },
 "nbformat": 4,
 "nbformat_minor": 4
}
